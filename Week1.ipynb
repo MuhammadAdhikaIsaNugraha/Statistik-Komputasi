{
  "nbformat": 4,
  "nbformat_minor": 0,
  "metadata": {
    "colab": {
      "provenance": []
    },
    "kernelspec": {
      "name": "python3",
      "display_name": "Python 3"
    },
    "language_info": {
      "name": "python"
    }
  },
  "cells": [
    {
      "cell_type": "markdown",
      "source": [
        "Mean Using Native"
      ],
      "metadata": {
        "id": "bDuZ-gu5yZyB"
      }
    },
    {
      "cell_type": "code",
      "source": [
        "#Mean Using Native\n",
        "\n",
        "apel = [100,200,150,100,120,80,90,160,110,170]\n",
        "\n",
        "total_berat = 0\n",
        "\n",
        "for i in range(len(apel)):\n",
        "  total_berat = total_berat+apel[i]\n",
        "\n",
        "avg_apel = total_berat/len(apel)\n",
        "print(avg_apel)"
      ],
      "metadata": {
        "colab": {
          "base_uri": "https://localhost:8080/"
        },
        "id": "Pj-J78DCffFV",
        "outputId": "656c0cc1-6384-4429-8bcb-aa46ef5ab9a6"
      },
      "execution_count": 4,
      "outputs": [
        {
          "output_type": "stream",
          "name": "stdout",
          "text": [
            "128.0\n"
          ]
        }
      ]
    },
    {
      "cell_type": "markdown",
      "source": [
        "Mean Using Nampy"
      ],
      "metadata": {
        "id": "IDc8YV6-yYAi"
      }
    },
    {
      "cell_type": "code",
      "execution_count": 5,
      "metadata": {
        "colab": {
          "base_uri": "https://localhost:8080/"
        },
        "id": "jsnYlDYEcY1s",
        "outputId": "0f6784df-1492-4390-fb46-89dd2886ab15"
      },
      "outputs": [
        {
          "output_type": "stream",
          "name": "stdout",
          "text": [
            "128.0\n"
          ]
        }
      ],
      "source": [
        "#Mean Using Nampy\n",
        "\n",
        "import numpy as np\n",
        "apel = [100, 200, 150, 100, 120, 80, 90, 160, 110, 170]\n",
        "avg_apel = np.mean(apel)\n",
        "print(avg_apel)"
      ]
    },
    {
      "cell_type": "markdown",
      "source": [
        "Median Using Native"
      ],
      "metadata": {
        "id": "yUyG-8TSyWaQ"
      }
    },
    {
      "cell_type": "code",
      "source": [
        "#Median Using Native\n",
        "\n",
        "import numpy as np\n",
        "apel = [100, 200, 150, 100, 120, 80, 90, 160, 110, 170]\n",
        "med_apel = np.median(apel)\n",
        "apel.sort()\n",
        "apel_urut = ''.join(map(str, apel))\n",
        "print('Apel urut : {:s}'.format(apel_urut))\n",
        "print(med_apel)"
      ],
      "metadata": {
        "colab": {
          "base_uri": "https://localhost:8080/"
        },
        "id": "DVi937iid_nG",
        "outputId": "e4424d68-8a33-4230-83a8-985b016f7162"
      },
      "execution_count": 3,
      "outputs": [
        {
          "output_type": "stream",
          "name": "stdout",
          "text": [
            "Apel urut : 8090100100110120150160170200\n",
            "115.0\n"
          ]
        }
      ]
    },
    {
      "cell_type": "markdown",
      "source": [
        "Modus Using Spicy vs Native"
      ],
      "metadata": {
        "id": "Lahw7fnLyTKj"
      }
    },
    {
      "cell_type": "code",
      "source": [
        "#Modus Using Spicy vs Native\n",
        "\n",
        "from scipy import stats\n",
        "import statistics as s\n",
        "\n",
        "nilai = [70, 80, 70, 70, 90, 100]\n",
        "\n",
        "mode_nilai = stats.mode(nilai) #spicy\n",
        "modus = s.mode(nilai) #native python\n",
        "\n",
        "print(modus)\n",
        "print(mode_nilai)\n",
        "print(mode_nilai.mode)"
      ],
      "metadata": {
        "colab": {
          "base_uri": "https://localhost:8080/"
        },
        "id": "puCHQDZlhkVE",
        "outputId": "88cb5959-4bb8-419a-80d6-259adca59faf"
      },
      "execution_count": 10,
      "outputs": [
        {
          "output_type": "stream",
          "name": "stdout",
          "text": [
            "70\n",
            "ModeResult(mode=array([70]), count=array([3]))\n",
            "[70]\n"
          ]
        }
      ]
    },
    {
      "cell_type": "markdown",
      "source": [
        "Range Using Numpy"
      ],
      "metadata": {
        "id": "lxPEUwCuyMjv"
      }
    },
    {
      "cell_type": "code",
      "source": [
        "#Range Using Numpy\n",
        "\n",
        "import numpy as np\n",
        "\n",
        "data = np.array([23, 56, 45, 65, 59, 55, 62, 54, 85, 25])\n",
        "data_max = max(data)\n",
        "data_min = min(data)\n",
        "range = data_max - data_min\n",
        "print(range)"
      ],
      "metadata": {
        "colab": {
          "base_uri": "https://localhost:8080/"
        },
        "id": "QMozvbEIn32i",
        "outputId": "f6cd563d-7769-4a22-8352-c710019745f4"
      },
      "execution_count": 12,
      "outputs": [
        {
          "output_type": "stream",
          "name": "stdout",
          "text": [
            "62\n"
          ]
        }
      ]
    },
    {
      "cell_type": "markdown",
      "source": [
        "How to obtain Q3 and Q1 Value (3)"
      ],
      "metadata": {
        "id": "J6GFfqDPxogO"
      }
    },
    {
      "cell_type": "code",
      "source": [
        "import numpy as np\n",
        "import pandas as pd\n",
        "\n",
        "data_baru = np.array([23, 56, 45, 65, 59, 55, 62, 54, 85, 25, 55])\n",
        "print(pd.DataFrame(data_baru).describe())"
      ],
      "metadata": {
        "colab": {
          "base_uri": "https://localhost:8080/"
        },
        "id": "gnQfYMcPxkk0",
        "outputId": "eaa5e379-8df5-4f62-cf37-371942e79dc6"
      },
      "execution_count": 13,
      "outputs": [
        {
          "output_type": "stream",
          "name": "stdout",
          "text": [
            "               0\n",
            "count  11.000000\n",
            "mean   53.090909\n",
            "std    17.466852\n",
            "min    23.000000\n",
            "25%    49.500000\n",
            "50%    55.000000\n",
            "75%    60.500000\n",
            "max    85.000000\n"
          ]
        }
      ]
    },
    {
      "cell_type": "code",
      "source": [],
      "metadata": {
        "id": "S9I6iv2lynLI"
      },
      "execution_count": null,
      "outputs": []
    }
  ]
}